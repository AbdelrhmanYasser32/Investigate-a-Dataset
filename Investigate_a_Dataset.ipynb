{
 "cells": [
  {
   "cell_type": "markdown",
   "metadata": {},
   "source": [
    "\n",
    "\n",
    "# Project: Investigate a Dataset - [noshowappointments-kagglev2-may-2016.csv]\n",
    "\n",
    "## Table of Contents\n",
    "<ul>\n",
    "<li><a href=\"#intro\">Introduction</a></li>\n",
    "<li><a href=\"#wrangling\">Data Wrangling</a></li>\n",
    "<li><a href=\"#eda\">Exploratory Data Analysis</a></li>\n",
    "<li><a href=\"#conclusions\">Conclusions</a></li>\n",
    "</ul>"
   ]
  },
  {
   "cell_type": "markdown",
   "metadata": {},
   "source": [
    "<a id='intro'></a>\n",
    "## Introduction\n",
    "In this project, I will analyze Medical Appointment No Shows Dataset and communicate my findings about it using Python libraries NumPy, pandas, Matplotlib, and seaborn. The dataset collects information from 110k medical appointments in Brazil and is focused on the question of whether or not patients show up for their appointment.\n",
    "### Dataset Description \n",
    "\n",
    "110,527 medical appointments, 14 associated variables (characteristics).\n",
    "The most important one if the patient show-up or no-show for the appointment.\n",
    "\n",
    "PatientId: Identification of a patient.\n",
    "\n",
    "AppointmentID: Identification of each appointment.\n",
    "\n",
    "Gender: Male (M) or Female (F).\n",
    "\n",
    "ScheduledDay: The day someone called or registered the appointment, this is before appointment of course.\n",
    "\n",
    "AppointmentDay: The day of the actuall appointment, when they have to visit the doctor.\n",
    "\n",
    "Age: How old is the patient.\n",
    "\n",
    "Neighbourhood: Where the appointment takes place.\n",
    "\n",
    "Scholarship: True (1) of False (0).\n",
    "Observation, this is a broad topic, consider reading this article here.\n",
    "\n",
    "Hipertension: True (1) or False (0).\n",
    "\n",
    "Diabetes: True (1) or False (0).\n",
    "\n",
    "Alcoholism: True (1) or False (0).\n",
    "\n",
    "Handcap: The handcap refers to the number of desabilites a person has. For example, if the person is blind and can't walk the total is 2, here.\n",
    "\n",
    "SMS_received: 1 or more messages sent to the patient.\n",
    "\n",
    "No-show: Yes or No.\n",
    "\n",
    "### Question(s) for Analysis\n",
    "1. What is the relationship between the following personal parts of information and no-shows?\n",
    "Diseases\n",
    "Neighborhood\n",
    "The second part of the analysis shall look out for opportunities to improve conditions for better performance. Therefore, I want to study on options to improve the situation from the administrative end:\n",
    "\n",
    "2. Did SMS-reminders decrease the proportion of patients not showing up?"
   ]
  },
  {
   "cell_type": "code",
   "execution_count": 79,
   "metadata": {},
   "outputs": [],
   "source": [
    "# Use this cell to set up import statements for all of the packages that you\n",
    "#   plan to use.\n",
    "\n",
    "# Remember to include a 'magic word' so that your visualizations are plotted\n",
    "#   inline with the notebook. See this page for more:\n",
    "#   http://ipython.readthedocs.io/en/stable/interactive/magics.html\n",
    "import pandas as pd\n",
    "import numpy as np\n",
    "import matplotlib.pyplot as plt\n",
    "import seaborn as sns\n",
    "sns.set(style=\"ticks\", color_codes=True)\n",
    "%matplotlib inline\n",
    "from datetime import datetime"
   ]
  },
  {
   "cell_type": "code",
   "execution_count": null,
   "metadata": {},
   "outputs": [],
   "source": [
    "# Upgrade pandas to use dataframe.explode() function. \n",
    "!pip install --upgrade pandas==0.25.0"
   ]
  },
  {
   "cell_type": "markdown",
   "metadata": {},
   "source": [
    "<a id='wrangling'></a>\n",
    "## Data Wrangling\n",
    "\n",
    "> **Tip**: In this section of the report, you will load in the data, check for cleanliness, and then trim and clean your dataset for analysis. Make sure that you **document your data cleaning steps in mark-down cells precisely and justify your cleaning decisions.**\n",
    "\n",
    "\n",
    "### General Properties\n",
    "> **Tip**: You should _not_ perform too many operations in each cell. Create cells freely to explore your data. One option that you can take with this project is to do a lot of explorations in an initial notebook. These don't have to be organized, but make sure you use enough comments to understand the purpose of each code cell. Then, after you're done with your analysis, create a duplicate notebook where you will trim the excess and organize your steps so that you have a flowing, cohesive report."
   ]
  },
  {
   "cell_type": "code",
   "execution_count": 80,
   "metadata": {},
   "outputs": [
    {
     "data": {
      "text/html": [
       "<div>\n",
       "<style scoped>\n",
       "    .dataframe tbody tr th:only-of-type {\n",
       "        vertical-align: middle;\n",
       "    }\n",
       "\n",
       "    .dataframe tbody tr th {\n",
       "        vertical-align: top;\n",
       "    }\n",
       "\n",
       "    .dataframe thead th {\n",
       "        text-align: right;\n",
       "    }\n",
       "</style>\n",
       "<table border=\"1\" class=\"dataframe\">\n",
       "  <thead>\n",
       "    <tr style=\"text-align: right;\">\n",
       "      <th></th>\n",
       "      <th>PatientId</th>\n",
       "      <th>AppointmentID</th>\n",
       "      <th>Gender</th>\n",
       "      <th>ScheduledDay</th>\n",
       "      <th>AppointmentDay</th>\n",
       "      <th>Age</th>\n",
       "      <th>Neighbourhood</th>\n",
       "      <th>Scholarship</th>\n",
       "      <th>Hipertension</th>\n",
       "      <th>Diabetes</th>\n",
       "      <th>Alcoholism</th>\n",
       "      <th>Handcap</th>\n",
       "      <th>SMS_received</th>\n",
       "      <th>No-show</th>\n",
       "    </tr>\n",
       "  </thead>\n",
       "  <tbody>\n",
       "    <tr>\n",
       "      <th>0</th>\n",
       "      <td>2.987250e+13</td>\n",
       "      <td>5642903</td>\n",
       "      <td>F</td>\n",
       "      <td>2016-04-29T18:38:08Z</td>\n",
       "      <td>2016-04-29T00:00:00Z</td>\n",
       "      <td>62</td>\n",
       "      <td>JARDIM DA PENHA</td>\n",
       "      <td>0</td>\n",
       "      <td>1</td>\n",
       "      <td>0</td>\n",
       "      <td>0</td>\n",
       "      <td>0</td>\n",
       "      <td>0</td>\n",
       "      <td>No</td>\n",
       "    </tr>\n",
       "    <tr>\n",
       "      <th>1</th>\n",
       "      <td>5.589978e+14</td>\n",
       "      <td>5642503</td>\n",
       "      <td>M</td>\n",
       "      <td>2016-04-29T16:08:27Z</td>\n",
       "      <td>2016-04-29T00:00:00Z</td>\n",
       "      <td>56</td>\n",
       "      <td>JARDIM DA PENHA</td>\n",
       "      <td>0</td>\n",
       "      <td>0</td>\n",
       "      <td>0</td>\n",
       "      <td>0</td>\n",
       "      <td>0</td>\n",
       "      <td>0</td>\n",
       "      <td>No</td>\n",
       "    </tr>\n",
       "    <tr>\n",
       "      <th>2</th>\n",
       "      <td>4.262962e+12</td>\n",
       "      <td>5642549</td>\n",
       "      <td>F</td>\n",
       "      <td>2016-04-29T16:19:04Z</td>\n",
       "      <td>2016-04-29T00:00:00Z</td>\n",
       "      <td>62</td>\n",
       "      <td>MATA DA PRAIA</td>\n",
       "      <td>0</td>\n",
       "      <td>0</td>\n",
       "      <td>0</td>\n",
       "      <td>0</td>\n",
       "      <td>0</td>\n",
       "      <td>0</td>\n",
       "      <td>No</td>\n",
       "    </tr>\n",
       "    <tr>\n",
       "      <th>3</th>\n",
       "      <td>8.679512e+11</td>\n",
       "      <td>5642828</td>\n",
       "      <td>F</td>\n",
       "      <td>2016-04-29T17:29:31Z</td>\n",
       "      <td>2016-04-29T00:00:00Z</td>\n",
       "      <td>8</td>\n",
       "      <td>PONTAL DE CAMBURI</td>\n",
       "      <td>0</td>\n",
       "      <td>0</td>\n",
       "      <td>0</td>\n",
       "      <td>0</td>\n",
       "      <td>0</td>\n",
       "      <td>0</td>\n",
       "      <td>No</td>\n",
       "    </tr>\n",
       "    <tr>\n",
       "      <th>4</th>\n",
       "      <td>8.841186e+12</td>\n",
       "      <td>5642494</td>\n",
       "      <td>F</td>\n",
       "      <td>2016-04-29T16:07:23Z</td>\n",
       "      <td>2016-04-29T00:00:00Z</td>\n",
       "      <td>56</td>\n",
       "      <td>JARDIM DA PENHA</td>\n",
       "      <td>0</td>\n",
       "      <td>1</td>\n",
       "      <td>1</td>\n",
       "      <td>0</td>\n",
       "      <td>0</td>\n",
       "      <td>0</td>\n",
       "      <td>No</td>\n",
       "    </tr>\n",
       "  </tbody>\n",
       "</table>\n",
       "</div>"
      ],
      "text/plain": [
       "      PatientId  AppointmentID Gender          ScheduledDay  \\\n",
       "0  2.987250e+13        5642903      F  2016-04-29T18:38:08Z   \n",
       "1  5.589978e+14        5642503      M  2016-04-29T16:08:27Z   \n",
       "2  4.262962e+12        5642549      F  2016-04-29T16:19:04Z   \n",
       "3  8.679512e+11        5642828      F  2016-04-29T17:29:31Z   \n",
       "4  8.841186e+12        5642494      F  2016-04-29T16:07:23Z   \n",
       "\n",
       "         AppointmentDay  Age      Neighbourhood  Scholarship  Hipertension  \\\n",
       "0  2016-04-29T00:00:00Z   62    JARDIM DA PENHA            0             1   \n",
       "1  2016-04-29T00:00:00Z   56    JARDIM DA PENHA            0             0   \n",
       "2  2016-04-29T00:00:00Z   62      MATA DA PRAIA            0             0   \n",
       "3  2016-04-29T00:00:00Z    8  PONTAL DE CAMBURI            0             0   \n",
       "4  2016-04-29T00:00:00Z   56    JARDIM DA PENHA            0             1   \n",
       "\n",
       "   Diabetes  Alcoholism  Handcap  SMS_received No-show  \n",
       "0         0           0        0             0      No  \n",
       "1         0           0        0             0      No  \n",
       "2         0           0        0             0      No  \n",
       "3         0           0        0             0      No  \n",
       "4         1           0        0             0      No  "
      ]
     },
     "execution_count": 80,
     "metadata": {},
     "output_type": "execute_result"
    }
   ],
   "source": [
    "# Load your data and print out a few lines. Perform operations to inspect data\n",
    "#   types and look for instances of missing or possibly errant data.\n",
    "df = pd.read_csv('noshowappointments-kagglev2-may-2016.csv') \n",
    "df.head()\n"
   ]
  },
  {
   "cell_type": "code",
   "execution_count": 48,
   "metadata": {},
   "outputs": [
    {
     "data": {
      "text/plain": [
       "(110527, 14)"
      ]
     },
     "execution_count": 48,
     "metadata": {},
     "output_type": "execute_result"
    }
   ],
   "source": [
    "df.shape\n"
   ]
  },
  {
   "cell_type": "code",
   "execution_count": 49,
   "metadata": {},
   "outputs": [
    {
     "data": {
      "text/plain": [
       "0"
      ]
     },
     "execution_count": 49,
     "metadata": {},
     "output_type": "execute_result"
    }
   ],
   "source": [
    "\n",
    "sum(df.duplicated())\n"
   ]
  },
  {
   "cell_type": "code",
   "execution_count": 50,
   "metadata": {},
   "outputs": [
    {
     "data": {
      "text/html": [
       "<div>\n",
       "<style scoped>\n",
       "    .dataframe tbody tr th:only-of-type {\n",
       "        vertical-align: middle;\n",
       "    }\n",
       "\n",
       "    .dataframe tbody tr th {\n",
       "        vertical-align: top;\n",
       "    }\n",
       "\n",
       "    .dataframe thead th {\n",
       "        text-align: right;\n",
       "    }\n",
       "</style>\n",
       "<table border=\"1\" class=\"dataframe\">\n",
       "  <thead>\n",
       "    <tr style=\"text-align: right;\">\n",
       "      <th></th>\n",
       "      <th>PatientId</th>\n",
       "      <th>AppointmentID</th>\n",
       "      <th>Age</th>\n",
       "      <th>Scholarship</th>\n",
       "      <th>Hipertension</th>\n",
       "      <th>Diabetes</th>\n",
       "      <th>Alcoholism</th>\n",
       "      <th>Handcap</th>\n",
       "      <th>SMS_received</th>\n",
       "    </tr>\n",
       "  </thead>\n",
       "  <tbody>\n",
       "    <tr>\n",
       "      <th>count</th>\n",
       "      <td>1.105270e+05</td>\n",
       "      <td>1.105270e+05</td>\n",
       "      <td>110527.000000</td>\n",
       "      <td>110527.000000</td>\n",
       "      <td>110527.000000</td>\n",
       "      <td>110527.000000</td>\n",
       "      <td>110527.000000</td>\n",
       "      <td>110527.000000</td>\n",
       "      <td>110527.000000</td>\n",
       "    </tr>\n",
       "    <tr>\n",
       "      <th>mean</th>\n",
       "      <td>1.474963e+14</td>\n",
       "      <td>5.675305e+06</td>\n",
       "      <td>37.088874</td>\n",
       "      <td>0.098266</td>\n",
       "      <td>0.197246</td>\n",
       "      <td>0.071865</td>\n",
       "      <td>0.030400</td>\n",
       "      <td>0.022248</td>\n",
       "      <td>0.321026</td>\n",
       "    </tr>\n",
       "    <tr>\n",
       "      <th>std</th>\n",
       "      <td>2.560949e+14</td>\n",
       "      <td>7.129575e+04</td>\n",
       "      <td>23.110205</td>\n",
       "      <td>0.297675</td>\n",
       "      <td>0.397921</td>\n",
       "      <td>0.258265</td>\n",
       "      <td>0.171686</td>\n",
       "      <td>0.161543</td>\n",
       "      <td>0.466873</td>\n",
       "    </tr>\n",
       "    <tr>\n",
       "      <th>min</th>\n",
       "      <td>3.921784e+04</td>\n",
       "      <td>5.030230e+06</td>\n",
       "      <td>-1.000000</td>\n",
       "      <td>0.000000</td>\n",
       "      <td>0.000000</td>\n",
       "      <td>0.000000</td>\n",
       "      <td>0.000000</td>\n",
       "      <td>0.000000</td>\n",
       "      <td>0.000000</td>\n",
       "    </tr>\n",
       "    <tr>\n",
       "      <th>25%</th>\n",
       "      <td>4.172614e+12</td>\n",
       "      <td>5.640286e+06</td>\n",
       "      <td>18.000000</td>\n",
       "      <td>0.000000</td>\n",
       "      <td>0.000000</td>\n",
       "      <td>0.000000</td>\n",
       "      <td>0.000000</td>\n",
       "      <td>0.000000</td>\n",
       "      <td>0.000000</td>\n",
       "    </tr>\n",
       "    <tr>\n",
       "      <th>50%</th>\n",
       "      <td>3.173184e+13</td>\n",
       "      <td>5.680573e+06</td>\n",
       "      <td>37.000000</td>\n",
       "      <td>0.000000</td>\n",
       "      <td>0.000000</td>\n",
       "      <td>0.000000</td>\n",
       "      <td>0.000000</td>\n",
       "      <td>0.000000</td>\n",
       "      <td>0.000000</td>\n",
       "    </tr>\n",
       "    <tr>\n",
       "      <th>75%</th>\n",
       "      <td>9.439172e+13</td>\n",
       "      <td>5.725524e+06</td>\n",
       "      <td>55.000000</td>\n",
       "      <td>0.000000</td>\n",
       "      <td>0.000000</td>\n",
       "      <td>0.000000</td>\n",
       "      <td>0.000000</td>\n",
       "      <td>0.000000</td>\n",
       "      <td>1.000000</td>\n",
       "    </tr>\n",
       "    <tr>\n",
       "      <th>max</th>\n",
       "      <td>9.999816e+14</td>\n",
       "      <td>5.790484e+06</td>\n",
       "      <td>115.000000</td>\n",
       "      <td>1.000000</td>\n",
       "      <td>1.000000</td>\n",
       "      <td>1.000000</td>\n",
       "      <td>1.000000</td>\n",
       "      <td>4.000000</td>\n",
       "      <td>1.000000</td>\n",
       "    </tr>\n",
       "  </tbody>\n",
       "</table>\n",
       "</div>"
      ],
      "text/plain": [
       "          PatientId  AppointmentID            Age    Scholarship  \\\n",
       "count  1.105270e+05   1.105270e+05  110527.000000  110527.000000   \n",
       "mean   1.474963e+14   5.675305e+06      37.088874       0.098266   \n",
       "std    2.560949e+14   7.129575e+04      23.110205       0.297675   \n",
       "min    3.921784e+04   5.030230e+06      -1.000000       0.000000   \n",
       "25%    4.172614e+12   5.640286e+06      18.000000       0.000000   \n",
       "50%    3.173184e+13   5.680573e+06      37.000000       0.000000   \n",
       "75%    9.439172e+13   5.725524e+06      55.000000       0.000000   \n",
       "max    9.999816e+14   5.790484e+06     115.000000       1.000000   \n",
       "\n",
       "        Hipertension       Diabetes     Alcoholism        Handcap  \\\n",
       "count  110527.000000  110527.000000  110527.000000  110527.000000   \n",
       "mean        0.197246       0.071865       0.030400       0.022248   \n",
       "std         0.397921       0.258265       0.171686       0.161543   \n",
       "min         0.000000       0.000000       0.000000       0.000000   \n",
       "25%         0.000000       0.000000       0.000000       0.000000   \n",
       "50%         0.000000       0.000000       0.000000       0.000000   \n",
       "75%         0.000000       0.000000       0.000000       0.000000   \n",
       "max         1.000000       1.000000       1.000000       4.000000   \n",
       "\n",
       "        SMS_received  \n",
       "count  110527.000000  \n",
       "mean        0.321026  \n",
       "std         0.466873  \n",
       "min         0.000000  \n",
       "25%         0.000000  \n",
       "50%         0.000000  \n",
       "75%         1.000000  \n",
       "max         1.000000  "
      ]
     },
     "execution_count": 50,
     "metadata": {},
     "output_type": "execute_result"
    }
   ],
   "source": [
    "df.describe()\n"
   ]
  },
  {
   "cell_type": "code",
   "execution_count": 51,
   "metadata": {},
   "outputs": [
    {
     "name": "stdout",
     "output_type": "stream",
     "text": [
      "<class 'pandas.core.frame.DataFrame'>\n",
      "RangeIndex: 110527 entries, 0 to 110526\n",
      "Data columns (total 14 columns):\n",
      "PatientId         110527 non-null float64\n",
      "AppointmentID     110527 non-null int64\n",
      "Gender            110527 non-null object\n",
      "ScheduledDay      110527 non-null object\n",
      "AppointmentDay    110527 non-null object\n",
      "Age               110527 non-null int64\n",
      "Neighbourhood     110527 non-null object\n",
      "Scholarship       110527 non-null int64\n",
      "Hipertension      110527 non-null int64\n",
      "Diabetes          110527 non-null int64\n",
      "Alcoholism        110527 non-null int64\n",
      "Handcap           110527 non-null int64\n",
      "SMS_received      110527 non-null int64\n",
      "No-show           110527 non-null object\n",
      "dtypes: float64(1), int64(8), object(5)\n",
      "memory usage: 11.8+ MB\n"
     ]
    }
   ],
   "source": [
    "df.info()"
   ]
  },
  {
   "cell_type": "code",
   "execution_count": 82,
   "metadata": {},
   "outputs": [],
   "source": [
    "def distribution(df, column, xlabel_fontsize=None, title_fontsize=None):\n",
    "    \"\"\"\n",
    "    Input DataFrame and name of column and return history plot.\n",
    "    Opcional Input: fontsize from xlabel, ylabel and title.\n",
    "    \"\"\"\n",
    "    plt.hist(df);\n",
    "    plt.title('Distribution number of patients by {}'.format(column), fontsize=title_fontsize)\n",
    "    plt.xlabel('{}'.format(column), fontsize=xlabel_fontsize);\n"
   ]
  },
  {
   "cell_type": "code",
   "execution_count": 84,
   "metadata": {},
   "outputs": [
    {
     "data": {
      "image/png": "[encoded data removed]",
      "text/plain": [
       "<matplotlib.figure.Figure at 0x7f55bbe15240>"
      ]
     },
     "metadata": {
      "needs_background": "light"
     },
     "output_type": "display_data"
    }
   ],
   "source": [
    "distribution(df['Age'], 'Age', xlabel_fontsize=20, title_fontsize=22)"
   ]
  },
  {
   "cell_type": "code",
   "execution_count": 85,
   "metadata": {},
   "outputs": [
    {
     "data": {
      "image/png": "[encoded data removed]",
      "text/plain": [
       "<matplotlib.figure.Figure at 0x7f55bb92f278>"
      ]
     },
     "metadata": {
      "needs_background": "light"
     },
     "output_type": "display_data"
    }
   ],
   "source": [
    "distribution(df['Scholarship'], 'Scholarship', xlabel_fontsize=16, title_fontsize=18)"
   ]
  },
  {
   "cell_type": "code",
   "execution_count": 86,
   "metadata": {},
   "outputs": [
    {
     "data": {
      "image/png": "[encoded data removed]",
      "text/plain": [
       "<matplotlib.figure.Figure at 0x7f55bb8c3a90>"
      ]
     },
     "metadata": {
      "needs_background": "light"
     },
     "output_type": "display_data"
    }
   ],
   "source": [
    "distribution(df['Hipertension'], 'Hipertension', xlabel_fontsize=16, title_fontsize=18)"
   ]
  },
  {
   "cell_type": "code",
   "execution_count": 87,
   "metadata": {},
   "outputs": [
    {
     "data": {
      "image/png": "[encoded data removed]",
      "text/plain": [
       "<matplotlib.figure.Figure at 0x7f55bb8c3ba8>"
      ]
     },
     "metadata": {
      "needs_background": "light"
     },
     "output_type": "display_data"
    }
   ],
   "source": [
    "distribution(df['Diabetes'], 'Diabetes', xlabel_fontsize=16, title_fontsize=18)"
   ]
  },
  {
   "cell_type": "code",
   "execution_count": 88,
   "metadata": {},
   "outputs": [
    {
     "data": {
      "image/png": "[encoded data removed]",
      "text/plain": [
       "<matplotlib.figure.Figure at 0x7f55bb8481d0>"
      ]
     },
     "metadata": {
      "needs_background": "light"
     },
     "output_type": "display_data"
    }
   ],
   "source": [
    "distribution(df['Alcoholism'], 'Alcoholism', xlabel_fontsize=16, title_fontsize=18)"
   ]
  },
  {
   "cell_type": "code",
   "execution_count": 89,
   "metadata": {},
   "outputs": [
    {
     "data": {
      "image/png": "[encoded data removed]",
      "text/plain": [
       "<matplotlib.figure.Figure at 0x7f55bb790048>"
      ]
     },
     "metadata": {
      "needs_background": "light"
     },
     "output_type": "display_data"
    }
   ],
   "source": [
    "distribution(df['Handcap'], 'Handcap', xlabel_fontsize=16, title_fontsize=18)"
   ]
  },
  {
   "cell_type": "code",
   "execution_count": 90,
   "metadata": {},
   "outputs": [
    {
     "data": {
      "image/png": "[encoded data removed]",
      "text/plain": [
       "<matplotlib.figure.Figure at 0x7f55bb800cf8>"
      ]
     },
     "metadata": {
      "needs_background": "light"
     },
     "output_type": "display_data"
    }
   ],
   "source": [
    "distribution(df['SMS_received'], 'SMS_received', xlabel_fontsize=16, title_fontsize=18)\n"
   ]
  },
  {
   "cell_type": "code",
   "execution_count": 91,
   "metadata": {},
   "outputs": [
    {
     "data": {
      "text/plain": [
       "81"
      ]
     },
     "execution_count": 91,
     "metadata": {},
     "output_type": "execute_result"
    }
   ],
   "source": [
    "df['Neighbourhood'].nunique()"
   ]
  },
  {
   "cell_type": "code",
   "execution_count": 92,
   "metadata": {},
   "outputs": [
    {
     "data": {
      "image/png": "[encoded data removed]",
      "text/plain": [
       "<matplotlib.figure.Figure at 0x7f55bb7dc5c0>"
      ]
     },
     "metadata": {
      "needs_background": "light"
     },
     "output_type": "display_data"
    }
   ],
   "source": [
    "(df['Neighbourhood'].value_counts(normalize=False)).head(10).plot(kind='bar')\n",
    "plt.title('Top 10 number of patients in Neighbourhood', fontsize=16);"
   ]
  },
  {
   "cell_type": "markdown",
   "metadata": {},
   "source": [
    "### Notes:\n",
    "Least 25% from data are under 18 years old and with an average age of 37 years old and maximum age of 115 years old and minimum age of -1 (This is probably a mistake).\n",
    "Scholarship, Hipertension, Diabetes, Alcoholism and Handcap have most of their data with a value of 0.\n",
    "At least half did not receive SMS.\n"
   ]
  },
  {
   "cell_type": "markdown",
   "metadata": {},
   "source": [
    "\n",
    "### Data Cleaning\n",
    "> **Tip**: Make sure that you keep your reader informed on the steps that you are taking in your investigation. Follow every code cell, or every set of related code cells, with a markdown cell to describe to the reader what was found in the preceding cell(s). Try to make it so that the reader can then understand what they will be seeing in the following cell(s).\n",
    " "
   ]
  },
  {
   "cell_type": "code",
   "execution_count": 53,
   "metadata": {},
   "outputs": [
    {
     "name": "stdout",
     "output_type": "stream",
     "text": [
      "0    2016-04-29T18:38:08Z\n",
      "1    2016-04-29T16:08:27Z\n",
      "2    2016-04-29T16:19:04Z\n",
      "3    2016-04-29T17:29:31Z\n",
      "4    2016-04-29T16:07:23Z\n",
      "Name: ScheduledDay, dtype: object\n",
      "\n",
      "\n",
      "0    2016-04-29T00:00:00Z\n",
      "1    2016-04-29T00:00:00Z\n",
      "2    2016-04-29T00:00:00Z\n",
      "3    2016-04-29T00:00:00Z\n",
      "4    2016-04-29T00:00:00Z\n",
      "Name: AppointmentDay, dtype: object\n"
     ]
    }
   ],
   "source": [
    "# After discussing the structure of the data and any problems that need to be\n",
    "#   cleaned, perform those cleaning steps in the second part of this section.\n",
    "print(df['ScheduledDay'].head())\n",
    "print('\\n')\n",
    "print(df['AppointmentDay'].head())"
   ]
  },
  {
   "cell_type": "code",
   "execution_count": 54,
   "metadata": {},
   "outputs": [
    {
     "name": "stdout",
     "output_type": "stream",
     "text": [
      "2016-04-29 18:38:08\n"
     ]
    }
   ],
   "source": [
    "testdate_raw = '2016-04-29T18:38:08Z'\n",
    "testdate_converted = datetime.strptime(testdate_raw, '%Y-%m-%dT%H:%M:%SZ')\n",
    "print(testdate_converted)"
   ]
  },
  {
   "cell_type": "code",
   "execution_count": 55,
   "metadata": {},
   "outputs": [
    {
     "name": "stdout",
     "output_type": "stream",
     "text": [
      "0   2016-04-29 18:38:08\n",
      "1   2016-04-29 16:08:27\n",
      "2   2016-04-29 16:19:04\n",
      "3   2016-04-29 17:29:31\n",
      "4   2016-04-29 16:07:23\n",
      "Name: ScheduledDay, dtype: datetime64[ns]\n",
      "\n",
      "\n",
      "0   2016-04-29\n",
      "1   2016-04-29\n",
      "2   2016-04-29\n",
      "3   2016-04-29\n",
      "4   2016-04-29\n",
      "Name: AppointmentDay, dtype: datetime64[ns]\n"
     ]
    }
   ],
   "source": [
    "df['ScheduledDay'] = pd.to_datetime(df['ScheduledDay'], format='%Y-%m-%dT%H:%M:%SZ')\n",
    "print(df['ScheduledDay'].head())\n",
    "print('\\n')\n",
    "df['AppointmentDay'] = pd.to_datetime(df['AppointmentDay'], format='%Y-%m-%dT%H:%M:%SZ')\n",
    "print(df['AppointmentDay'].head())"
   ]
  },
  {
   "cell_type": "code",
   "execution_count": 56,
   "metadata": {},
   "outputs": [
    {
     "name": "stdout",
     "output_type": "stream",
     "text": [
      "0    99666\n",
      "1    10861\n",
      "Name: Scholarship, dtype: int64\n",
      "\n",
      "\n",
      "0    88726\n",
      "1    21801\n",
      "Name: Hipertension, dtype: int64\n",
      "\n",
      "\n",
      "0    107167\n",
      "1      3360\n",
      "Name: Alcoholism, dtype: int64\n",
      "\n",
      "\n",
      "0    102584\n",
      "1      7943\n",
      "Name: Diabetes, dtype: int64\n",
      "\n",
      "\n",
      "0    108286\n",
      "1      2042\n",
      "2       183\n",
      "3        13\n",
      "4         3\n",
      "Name: Handcap, dtype: int64\n",
      "\n",
      "\n",
      "0    75045\n",
      "1    35482\n",
      "Name: SMS_received, dtype: int64\n",
      "\n",
      "\n",
      "No     88208\n",
      "Yes    22319\n",
      "Name: No-show, dtype: int64\n",
      "\n",
      "\n"
     ]
    }
   ],
   "source": [
    "bool_columns=['Scholarship', 'Hipertension', 'Alcoholism', 'Diabetes', 'Handcap', 'SMS_received', 'No-show']\n",
    "\n",
    "# Value inspection of the columns. Iterating through the concerning columns.\n",
    "for column in df[bool_columns]:\n",
    "    print(df[column].value_counts())\n",
    "    print('\\n')\n"
   ]
  },
  {
   "cell_type": "code",
   "execution_count": 57,
   "metadata": {},
   "outputs": [
    {
     "name": "stdout",
     "output_type": "stream",
     "text": [
      "['Scholarship', 'Hipertension', 'Alcoholism', 'Diabetes', 'SMS_received']\n"
     ]
    }
   ],
   "source": [
    "bool_columns.remove('Handcap')\n",
    "bool_columns.remove('No-show')\n",
    "print(bool_columns)\n"
   ]
  },
  {
   "cell_type": "code",
   "execution_count": 58,
   "metadata": {},
   "outputs": [
    {
     "name": "stdout",
     "output_type": "stream",
     "text": [
      "False    99666\n",
      "True     10861\n",
      "Name: Scholarship, dtype: int64\n",
      "\n",
      "\n",
      "False    88726\n",
      "True     21801\n",
      "Name: Hipertension, dtype: int64\n",
      "\n",
      "\n",
      "False    107167\n",
      "True       3360\n",
      "Name: Alcoholism, dtype: int64\n",
      "\n",
      "\n",
      "False    102584\n",
      "True       7943\n",
      "Name: Diabetes, dtype: int64\n",
      "\n",
      "\n",
      "False    75045\n",
      "True     35482\n",
      "Name: SMS_received, dtype: int64\n",
      "\n",
      "\n"
     ]
    }
   ],
   "source": [
    "for column in df[bool_columns]:\n",
    "    #Conversion to boolean, by iterating through concerning colums.\n",
    "    df[column] = df[column].astype('bool', inplace=True)\n",
    "    \n",
    "    #Check conversion took place corretly?\n",
    "    print(df[column].value_counts())\n",
    "    print('\\n')"
   ]
  },
  {
   "cell_type": "code",
   "execution_count": 59,
   "metadata": {},
   "outputs": [
    {
     "data": {
      "text/plain": [
       "0    108286\n",
       "1      2042\n",
       "2       183\n",
       "3        13\n",
       "4         3\n",
       "Name: Handcap, dtype: int64"
      ]
     },
     "execution_count": 59,
     "metadata": {},
     "output_type": "execute_result"
    }
   ],
   "source": [
    "\n",
    "df['Handcap'].value_counts()"
   ]
  },
  {
   "cell_type": "code",
   "execution_count": 60,
   "metadata": {},
   "outputs": [
    {
     "data": {
      "text/plain": [
       "False    108286\n",
       "True       2241\n",
       "Name: Handcap-combined, dtype: int64"
      ]
     },
     "execution_count": 60,
     "metadata": {},
     "output_type": "execute_result"
    }
   ],
   "source": [
    "df['Handcap-combined'] = df['Handcap'].astype('bool')\n",
    "df['Handcap-combined'].value_counts()\n"
   ]
  },
  {
   "cell_type": "code",
   "execution_count": 61,
   "metadata": {},
   "outputs": [
    {
     "name": "stdout",
     "output_type": "stream",
     "text": [
      "<class 'pandas.core.frame.DataFrame'>\n",
      "RangeIndex: 110527 entries, 0 to 110526\n",
      "Data columns (total 15 columns):\n",
      "PatientId           110527 non-null float64\n",
      "AppointmentID       110527 non-null int64\n",
      "Gender              110527 non-null object\n",
      "ScheduledDay        110527 non-null datetime64[ns]\n",
      "AppointmentDay      110527 non-null datetime64[ns]\n",
      "Age                 110527 non-null int64\n",
      "Neighbourhood       110527 non-null object\n",
      "Scholarship         110527 non-null bool\n",
      "Hipertension        110527 non-null bool\n",
      "Diabetes            110527 non-null bool\n",
      "Alcoholism          110527 non-null bool\n",
      "Handcap             110527 non-null int64\n",
      "SMS_received        110527 non-null bool\n",
      "No-show             110527 non-null object\n",
      "Handcap-combined    110527 non-null bool\n",
      "dtypes: bool(6), datetime64[ns](2), float64(1), int64(3), object(3)\n",
      "memory usage: 8.2+ MB\n"
     ]
    }
   ],
   "source": [
    "df.info()"
   ]
  },
  {
   "cell_type": "code",
   "execution_count": 62,
   "metadata": {},
   "outputs": [
    {
     "data": {
      "text/plain": [
       "No     88208\n",
       "Yes    22319\n",
       "Name: No-show, dtype: int64"
      ]
     },
     "execution_count": 62,
     "metadata": {},
     "output_type": "execute_result"
    }
   ],
   "source": [
    "df['No-show'].value_counts()"
   ]
  },
  {
   "cell_type": "code",
   "execution_count": 63,
   "metadata": {},
   "outputs": [],
   "source": [
    "df['No-show'].replace({'No': 0, 'Yes': 1}, inplace = True)"
   ]
  },
  {
   "cell_type": "code",
   "execution_count": 64,
   "metadata": {},
   "outputs": [],
   "source": [
    "df['No-show'] = df['No-show'].astype('bool', inplace=True)\n"
   ]
  },
  {
   "cell_type": "code",
   "execution_count": 65,
   "metadata": {},
   "outputs": [
    {
     "data": {
      "text/plain": [
       "False    88208\n",
       "True     22319\n",
       "Name: No-show, dtype: int64"
      ]
     },
     "execution_count": 65,
     "metadata": {},
     "output_type": "execute_result"
    }
   ],
   "source": [
    "df['No-show'].value_counts()"
   ]
  },
  {
   "cell_type": "code",
   "execution_count": 66,
   "metadata": {},
   "outputs": [],
   "source": [
    "df.drop(['PatientId', 'AppointmentID'], axis=1, inplace=True)"
   ]
  },
  {
   "cell_type": "code",
   "execution_count": 67,
   "metadata": {},
   "outputs": [
    {
     "data": {
      "text/plain": [
       "635"
      ]
     },
     "execution_count": 67,
     "metadata": {},
     "output_type": "execute_result"
    }
   ],
   "source": [
    "sum(df.duplicated())\n"
   ]
  },
  {
   "cell_type": "code",
   "execution_count": 68,
   "metadata": {},
   "outputs": [
    {
     "data": {
      "text/plain": [
       "2016-05-06 07:09:54    24\n",
       "2016-05-06 07:09:53    23\n",
       "2016-04-25 17:18:27    22\n",
       "2016-04-25 17:17:46    22\n",
       "2016-04-25 17:17:23    19\n",
       "2016-04-25 17:19:03    15\n",
       "2016-05-31 09:54:52    15\n",
       "2016-05-10 08:18:24    15\n",
       "2016-06-07 16:15:14    14\n",
       "2016-05-03 07:52:31    14\n",
       "2016-05-25 09:36:45    13\n",
       "2016-05-09 08:07:11    13\n",
       "2016-05-10 08:29:24    13\n",
       "2016-03-29 10:44:23    13\n",
       "2016-05-13 08:54:09    12\n",
       "2016-05-25 16:34:32    12\n",
       "2016-05-12 13:58:44    11\n",
       "2016-04-18 15:43:23    11\n",
       "2016-05-13 08:38:50    11\n",
       "2016-05-20 14:10:56    11\n",
       "2016-03-29 10:43:41    11\n",
       "2016-06-03 08:51:28    11\n",
       "2016-04-18 15:39:02    11\n",
       "2016-04-25 16:24:42    11\n",
       "2016-05-06 08:04:41    11\n",
       "2016-05-04 08:51:42    11\n",
       "2016-05-20 13:06:03    11\n",
       "2016-04-18 15:40:28    11\n",
       "2016-05-10 17:35:47    11\n",
       "2016-05-19 13:43:43    11\n",
       "                       ..\n",
       "2016-04-27 11:00:22     1\n",
       "2016-04-27 14:40:25     1\n",
       "2016-06-06 07:35:49     1\n",
       "2016-04-14 09:11:44     1\n",
       "2016-06-06 10:03:15     1\n",
       "2016-05-03 08:36:58     1\n",
       "2016-05-25 14:54:44     1\n",
       "2016-06-02 09:23:56     1\n",
       "2016-03-29 12:53:34     1\n",
       "2016-04-18 16:36:26     1\n",
       "2016-04-14 11:12:51     1\n",
       "2016-03-14 13:39:24     1\n",
       "2016-05-16 14:06:22     1\n",
       "2016-06-03 07:15:22     1\n",
       "2016-05-17 07:13:04     1\n",
       "2016-05-30 09:12:13     1\n",
       "2016-05-18 07:41:24     1\n",
       "2016-05-09 07:27:23     1\n",
       "2016-05-11 07:06:30     1\n",
       "2016-05-03 15:55:48     1\n",
       "2016-06-03 09:45:20     1\n",
       "2016-05-02 09:19:15     1\n",
       "2016-04-06 09:31:25     1\n",
       "2016-05-13 14:05:51     1\n",
       "2016-05-16 09:44:20     1\n",
       "2016-04-25 08:45:17     1\n",
       "2016-05-02 08:09:10     1\n",
       "2016-05-12 11:16:29     1\n",
       "2016-05-24 11:35:37     1\n",
       "2016-05-19 16:59:13     1\n",
       "Name: ScheduledDay, Length: 103549, dtype: int64"
      ]
     },
     "execution_count": 68,
     "metadata": {},
     "output_type": "execute_result"
    }
   ],
   "source": [
    "df['ScheduledDay'].value_counts()"
   ]
  },
  {
   "cell_type": "code",
   "execution_count": 69,
   "metadata": {},
   "outputs": [
    {
     "data": {
      "image/png": "[encoded data removed]",
      "text/plain": [
       "<matplotlib.figure.Figure at 0x7f55bdbd0908>"
      ]
     },
     "metadata": {
      "needs_background": "light"
     },
     "output_type": "display_data"
    }
   ],
   "source": [
    "df['ScheduledDay'].value_counts().plot();"
   ]
  },
  {
   "cell_type": "code",
   "execution_count": 70,
   "metadata": {},
   "outputs": [],
   "source": [
    "df.drop_duplicates(subset=None, keep='first', inplace=True)\n"
   ]
  },
  {
   "cell_type": "code",
   "execution_count": 71,
   "metadata": {},
   "outputs": [
    {
     "data": {
      "text/plain": [
       "2016-05-06 07:09:54    23\n",
       "2016-05-06 07:09:53    23\n",
       "2016-04-25 17:17:46    22\n",
       "2016-04-25 17:18:27    22\n",
       "2016-04-25 17:17:23    19\n",
       "2016-04-25 17:19:03    15\n",
       "2016-05-31 09:54:52    15\n",
       "2016-05-10 08:18:24    14\n",
       "2016-03-29 10:44:23    13\n",
       "2016-06-07 16:15:14    13\n",
       "2016-05-25 09:36:45    13\n",
       "2016-05-03 07:52:31    13\n",
       "2016-05-09 08:07:11    13\n",
       "2016-05-10 08:29:24    13\n",
       "2016-05-13 08:54:09    12\n",
       "2016-04-25 16:24:42    11\n",
       "2016-05-25 16:34:32    11\n",
       "2016-05-20 14:10:56    11\n",
       "2016-06-03 08:51:28    11\n",
       "2016-05-13 08:38:50    11\n",
       "2016-04-18 15:40:28    11\n",
       "2016-05-20 13:06:03    11\n",
       "2016-04-18 15:39:02    11\n",
       "2016-05-04 08:51:42    11\n",
       "2016-03-29 10:43:41    11\n",
       "2016-05-19 13:43:43    11\n",
       "2016-04-18 15:43:23    11\n",
       "2016-05-12 13:58:44    11\n",
       "2016-05-06 08:04:41    11\n",
       "2016-05-10 17:35:47    10\n",
       "                       ..\n",
       "2016-04-28 08:23:37     1\n",
       "2016-05-30 14:33:14     1\n",
       "2016-06-06 08:12:19     1\n",
       "2016-04-18 08:57:57     1\n",
       "2016-05-19 08:40:17     1\n",
       "2016-05-31 10:23:13     1\n",
       "2016-05-11 11:29:13     1\n",
       "2016-05-24 07:20:53     1\n",
       "2016-06-03 15:16:52     1\n",
       "2016-04-19 15:14:40     1\n",
       "2016-06-02 07:28:06     1\n",
       "2016-05-16 15:59:07     1\n",
       "2016-05-10 14:36:28     1\n",
       "2016-03-30 17:36:05     1\n",
       "2016-05-04 13:14:09     1\n",
       "2016-05-17 09:41:33     1\n",
       "2016-04-26 07:20:59     1\n",
       "2016-05-31 11:32:02     1\n",
       "2016-05-05 10:02:26     1\n",
       "2016-04-27 12:44:35     1\n",
       "2016-04-29 08:40:07     1\n",
       "2016-05-11 08:59:15     1\n",
       "2016-05-17 07:55:44     1\n",
       "2016-05-16 11:10:15     1\n",
       "2016-05-09 08:33:04     1\n",
       "2016-04-06 09:43:40     1\n",
       "2016-06-06 15:24:39     1\n",
       "2016-05-11 13:55:03     1\n",
       "2016-05-02 07:34:29     1\n",
       "2016-05-19 16:59:13     1\n",
       "Name: ScheduledDay, Length: 103549, dtype: int64"
      ]
     },
     "execution_count": 71,
     "metadata": {},
     "output_type": "execute_result"
    }
   ],
   "source": [
    "df['ScheduledDay'].value_counts()"
   ]
  },
  {
   "cell_type": "code",
   "execution_count": 72,
   "metadata": {},
   "outputs": [
    {
     "data": {
      "image/png": "[encoded data removed]",
      "text/plain": [
       "<matplotlib.figure.Figure at 0x7f55bdb89518>"
      ]
     },
     "metadata": {
      "needs_background": "light"
     },
     "output_type": "display_data"
    }
   ],
   "source": [
    "df['ScheduledDay'].value_counts().plot();"
   ]
  },
  {
   "cell_type": "code",
   "execution_count": 73,
   "metadata": {},
   "outputs": [
    {
     "data": {
      "text/html": [
       "<div>\n",
       "<style scoped>\n",
       "    .dataframe tbody tr th:only-of-type {\n",
       "        vertical-align: middle;\n",
       "    }\n",
       "\n",
       "    .dataframe tbody tr th {\n",
       "        vertical-align: top;\n",
       "    }\n",
       "\n",
       "    .dataframe thead th {\n",
       "        text-align: right;\n",
       "    }\n",
       "</style>\n",
       "<table border=\"1\" class=\"dataframe\">\n",
       "  <thead>\n",
       "    <tr style=\"text-align: right;\">\n",
       "      <th></th>\n",
       "      <th>Gender</th>\n",
       "      <th>ScheduledDay</th>\n",
       "      <th>AppointmentDay</th>\n",
       "      <th>Age</th>\n",
       "      <th>Neighbourhood</th>\n",
       "      <th>Scholarship</th>\n",
       "      <th>Hipertension</th>\n",
       "      <th>Diabetes</th>\n",
       "      <th>Alcoholism</th>\n",
       "      <th>Handcap</th>\n",
       "      <th>SMS_received</th>\n",
       "      <th>No-show</th>\n",
       "      <th>Handcap-combined</th>\n",
       "    </tr>\n",
       "  </thead>\n",
       "  <tbody>\n",
       "    <tr>\n",
       "      <th>99832</th>\n",
       "      <td>F</td>\n",
       "      <td>2016-06-06 08:58:13</td>\n",
       "      <td>2016-06-06</td>\n",
       "      <td>-1</td>\n",
       "      <td>ROMÃO</td>\n",
       "      <td>False</td>\n",
       "      <td>False</td>\n",
       "      <td>False</td>\n",
       "      <td>False</td>\n",
       "      <td>0</td>\n",
       "      <td>False</td>\n",
       "      <td>False</td>\n",
       "      <td>False</td>\n",
       "    </tr>\n",
       "  </tbody>\n",
       "</table>\n",
       "</div>"
      ],
      "text/plain": [
       "      Gender        ScheduledDay AppointmentDay  Age Neighbourhood  \\\n",
       "99832      F 2016-06-06 08:58:13     2016-06-06   -1         ROMÃO   \n",
       "\n",
       "       Scholarship  Hipertension  Diabetes  Alcoholism  Handcap  SMS_received  \\\n",
       "99832        False         False     False       False        0         False   \n",
       "\n",
       "       No-show  Handcap-combined  \n",
       "99832    False             False  "
      ]
     },
     "execution_count": 73,
     "metadata": {},
     "output_type": "execute_result"
    }
   ],
   "source": [
    "df.loc[df['Age'] == -1]"
   ]
  },
  {
   "cell_type": "code",
   "execution_count": 74,
   "metadata": {},
   "outputs": [],
   "source": [
    "df.drop([99832], inplace=True)"
   ]
  },
  {
   "cell_type": "code",
   "execution_count": 75,
   "metadata": {},
   "outputs": [
    {
     "data": {
      "text/html": [
       "<div>\n",
       "<style scoped>\n",
       "    .dataframe tbody tr th:only-of-type {\n",
       "        vertical-align: middle;\n",
       "    }\n",
       "\n",
       "    .dataframe tbody tr th {\n",
       "        vertical-align: top;\n",
       "    }\n",
       "\n",
       "    .dataframe thead th {\n",
       "        text-align: right;\n",
       "    }\n",
       "</style>\n",
       "<table border=\"1\" class=\"dataframe\">\n",
       "  <thead>\n",
       "    <tr style=\"text-align: right;\">\n",
       "      <th></th>\n",
       "      <th>Gender</th>\n",
       "      <th>ScheduledDay</th>\n",
       "      <th>AppointmentDay</th>\n",
       "      <th>Age</th>\n",
       "      <th>Neighbourhood</th>\n",
       "      <th>Scholarship</th>\n",
       "      <th>Hipertension</th>\n",
       "      <th>Diabetes</th>\n",
       "      <th>Alcoholism</th>\n",
       "      <th>Handcap</th>\n",
       "      <th>SMS_received</th>\n",
       "      <th>No-show</th>\n",
       "      <th>Handcap-combined</th>\n",
       "    </tr>\n",
       "  </thead>\n",
       "  <tbody>\n",
       "    <tr>\n",
       "      <th>63912</th>\n",
       "      <td>F</td>\n",
       "      <td>2016-05-16 09:17:44</td>\n",
       "      <td>2016-05-19</td>\n",
       "      <td>115</td>\n",
       "      <td>ANDORINHAS</td>\n",
       "      <td>False</td>\n",
       "      <td>False</td>\n",
       "      <td>False</td>\n",
       "      <td>False</td>\n",
       "      <td>1</td>\n",
       "      <td>False</td>\n",
       "      <td>True</td>\n",
       "      <td>True</td>\n",
       "    </tr>\n",
       "    <tr>\n",
       "      <th>68127</th>\n",
       "      <td>F</td>\n",
       "      <td>2016-04-08 14:29:17</td>\n",
       "      <td>2016-05-16</td>\n",
       "      <td>115</td>\n",
       "      <td>ANDORINHAS</td>\n",
       "      <td>False</td>\n",
       "      <td>False</td>\n",
       "      <td>False</td>\n",
       "      <td>False</td>\n",
       "      <td>1</td>\n",
       "      <td>False</td>\n",
       "      <td>True</td>\n",
       "      <td>True</td>\n",
       "    </tr>\n",
       "    <tr>\n",
       "      <th>76284</th>\n",
       "      <td>F</td>\n",
       "      <td>2016-05-30 09:44:51</td>\n",
       "      <td>2016-05-30</td>\n",
       "      <td>115</td>\n",
       "      <td>ANDORINHAS</td>\n",
       "      <td>False</td>\n",
       "      <td>False</td>\n",
       "      <td>False</td>\n",
       "      <td>False</td>\n",
       "      <td>1</td>\n",
       "      <td>False</td>\n",
       "      <td>False</td>\n",
       "      <td>True</td>\n",
       "    </tr>\n",
       "    <tr>\n",
       "      <th>97666</th>\n",
       "      <td>F</td>\n",
       "      <td>2016-05-19 07:57:56</td>\n",
       "      <td>2016-06-03</td>\n",
       "      <td>115</td>\n",
       "      <td>SÃO JOSÉ</td>\n",
       "      <td>False</td>\n",
       "      <td>True</td>\n",
       "      <td>False</td>\n",
       "      <td>False</td>\n",
       "      <td>0</td>\n",
       "      <td>True</td>\n",
       "      <td>False</td>\n",
       "      <td>False</td>\n",
       "    </tr>\n",
       "  </tbody>\n",
       "</table>\n",
       "</div>"
      ],
      "text/plain": [
       "      Gender        ScheduledDay AppointmentDay  Age Neighbourhood  \\\n",
       "63912      F 2016-05-16 09:17:44     2016-05-19  115    ANDORINHAS   \n",
       "68127      F 2016-04-08 14:29:17     2016-05-16  115    ANDORINHAS   \n",
       "76284      F 2016-05-30 09:44:51     2016-05-30  115    ANDORINHAS   \n",
       "97666      F 2016-05-19 07:57:56     2016-06-03  115      SÃO JOSÉ   \n",
       "\n",
       "       Scholarship  Hipertension  Diabetes  Alcoholism  Handcap  SMS_received  \\\n",
       "63912        False         False     False       False        1         False   \n",
       "68127        False         False     False       False        1         False   \n",
       "76284        False         False     False       False        1         False   \n",
       "97666        False          True     False       False        0          True   \n",
       "\n",
       "       No-show  Handcap-combined  \n",
       "63912     True              True  \n",
       "68127     True              True  \n",
       "76284    False              True  \n",
       "97666    False             False  "
      ]
     },
     "execution_count": 75,
     "metadata": {},
     "output_type": "execute_result"
    }
   ],
   "source": [
    "df.loc[df['Age'] == 115]"
   ]
  },
  {
   "cell_type": "code",
   "execution_count": 76,
   "metadata": {},
   "outputs": [],
   "source": [
    "df.to_csv('noshowappointments-May-2016-cleaned.csv', index = False)"
   ]
  },
  {
   "cell_type": "markdown",
   "metadata": {},
   "source": [
    "<a id='eda'></a>\n",
    "## Exploratory Data Analysis\n",
    "\n",
    "> **Tip**: Now that you've trimmed and cleaned your data, you're ready to move on to exploration. **Compute statistics** and **create visualizations** with the goal of addressing the research questions that you posed in the Introduction section. You should compute the relevant statistics throughout the analysis when an inference is made about the data. Note that at least two or more kinds of plots should be created as part of the exploration, and you must  compare and show trends in the varied visualizations. \n",
    "\n",
    "\n",
    "\n",
    "> **Tip**: - Investigate the stated question(s) from multiple angles. It is recommended that you be systematic with your approach. Look at one variable at a time, and then follow it up by looking at relationships between variables. You should explore at least three variables in relation to the primary question. This can be an exploratory relationship between three variables of interest, or looking at how two independent variables relate to a single dependent variable of interest. Lastly, you  should perform both single-variable (1d) and multiple-variable (2d) explorations.\n",
    "\n",
    "\n",
    "### Research Question 1: Is there a relationship between the following personal parts of information and no-shows?\n",
    "1.Diseases\n",
    "\n",
    "2.Neighbourhood"
   ]
  },
  {
   "cell_type": "code",
   "execution_count": 94,
   "metadata": {},
   "outputs": [],
   "source": [
    "# Use this, and more code cells, to explore your data. Don't forget to add\n",
    "#   Markdown cells to document your observations and findings.\n",
    "dfc = pd.read_csv('noshowappointments-May-2016-cleaned.csv')"
   ]
  },
  {
   "cell_type": "markdown",
   "metadata": {},
   "source": [
    "#### 1. Analysis per disease"
   ]
  },
  {
   "cell_type": "code",
   "execution_count": 95,
   "metadata": {},
   "outputs": [
    {
     "data": {
      "image/png": "[encoded data removed]",
      "text/plain": [
       "<matplotlib.figure.Figure at 0x7f55bdb9d358>"
      ]
     },
     "metadata": {
      "needs_background": "light"
     },
     "output_type": "display_data"
    }
   ],
   "source": [
    "\n",
    "#For comparison, extracting patients without a stated disease into separate dataframes.\n",
    "df_no_disease_showed_up = dfc[(dfc['No-show'] == False) & (dfc['Hipertension'] == False) & (dfc['Diabetes'] == False) & (dfc['Alcoholism'] == False) & (dfc['Handcap'] == False)]\n",
    "df_no_disease_no_show = dfc[(dfc['No-show'] == True) & (dfc['Hipertension'] == False) & (dfc['Diabetes'] == False) & (dfc['Alcoholism'] == False) & (dfc['Handcap'] == False)]\n",
    "\n",
    "#Calculation the total amounts of appointments per disease for proportion calculuation later on.\n",
    "amount_no_disease = df_no_disease_showed_up['AppointmentDay'].count() + df_no_disease_no_show['AppointmentDay'].count()\n",
    "amount_Hipertension = sum(dfc.groupby(['No-show']).sum()['Hipertension'])\n",
    "amount_Diabetes = sum(dfc.groupby(['No-show']).sum()['Diabetes'])\n",
    "amount_Alcoholism = sum(dfc.groupby(['No-show']).sum()['Alcoholism'])\n",
    "amount_Handcap_combined = sum(dfc.groupby(['No-show']).sum()['Handcap-combined'])\n",
    "\n",
    "#Calculation the proportions of No-show and Show-up per disease and for no-disease\n",
    "hipertension = dfc.groupby(['No-show']).sum()['Hipertension']/amount_Hipertension *100\n",
    "diabetes = dfc.groupby(['No-show']).sum()['Diabetes']/amount_Diabetes * 100\n",
    "alcoholism = dfc.groupby(['No-show']).sum()['Alcoholism']/amount_Alcoholism * 100\n",
    "handcap_combined = dfc.groupby(['No-show']).sum()['Handcap-combined']/amount_Handcap_combined * 100\n",
    "no_disease_showed_up_proportion = df_no_disease_showed_up['AppointmentDay'].count() / amount_no_disease * 100\n",
    "no_disease_no_show_proportion = df_no_disease_no_show['AppointmentDay'].count() / amount_no_disease * 100\n",
    "\n",
    "\n",
    "#Plotting results of calculations above.\n",
    "# Styling the graphs\n",
    "fig = plt.figure(figsize=(15,55)) \n",
    "sns.set_style('whitegrid')\n",
    "\n",
    "# Defining the graphs\n",
    "plt.subplot(7,2,1)\n",
    "hipertension.plot.bar()\n",
    "plt.title('Proportion Appointments of Patients with Hypertension on No-show')\n",
    "plt.xlabel('No-show')\n",
    "plt.ylabel('Percentage of Appointments')\n",
    "\n",
    "plt.subplot(7,2,2)\n",
    "diabetes.plot.bar()\n",
    "plt.title('Proportion Appointments of Patients with Diabetes on No-show')\n",
    "plt.xlabel('No-show')\n",
    "plt.ylabel('Percentage of Appointments')\n",
    "\n",
    "plt.subplot(7,2,3)\n",
    "alcoholism.plot.bar()\n",
    "plt.title('Proportion Appointments of Patients with Alcoholism on No-show')\n",
    "plt.xlabel('No-show')\n",
    "plt.ylabel('Percentage of Appointments')\n",
    "\n",
    "plt.subplot(7,2,4)\n",
    "handcap_combined.plot.bar()\n",
    "plt.title('Proportion Appointments of Patients with Handicap on No-show')\n",
    "plt.xlabel('No-show')\n",
    "plt.ylabel('Percentage of Appointments')\n",
    "\n",
    "plt.subplot(7,2,5)\n",
    "plt.bar([\"False\",\"True\"], [no_disease_showed_up_proportion, no_disease_no_show_proportion]);\n",
    "plt.title('Proportion Appointments of Patients without any of the mentioned Diseases on No-show')\n",
    "plt.xlabel('No-show')\n",
    "plt.ylabel('Percentage of Appointments');\n"
   ]
  },
  {
   "cell_type": "markdown",
   "metadata": {},
   "source": [
    "#### 2. Analysis of neighboorhood"
   ]
  },
  {
   "cell_type": "code",
   "execution_count": 96,
   "metadata": {},
   "outputs": [
    {
     "data": {
      "text/plain": [
       "JARDIM CAMBURI                 7616\n",
       "MARIA ORTIZ                    5804\n",
       "RESISTÊNCIA                    4387\n",
       "JARDIM DA PENHA                3873\n",
       "ITARARÉ                        3470\n",
       "CENTRO                         3310\n",
       "TABUAZEIRO                     3123\n",
       "SANTA MARTHA                   3103\n",
       "JESUS DE NAZARETH              2852\n",
       "BONFIM                         2761\n",
       "SANTO ANTÔNIO                  2733\n",
       "SANTO ANDRÉ                    2556\n",
       "CARATOÍRA                      2541\n",
       "JABOUR                         2507\n",
       "SÃO PEDRO                      2431\n",
       "ILHA DO PRÍNCIPE               2266\n",
       "NOVA PALESTINA                 2263\n",
       "DA PENHA                       2203\n",
       "ROMÃO                          2196\n",
       "ANDORINHAS                     2194\n",
       "GURIGICA                       2008\n",
       "SÃO JOSÉ                       1963\n",
       "BELA VISTA                     1894\n",
       "MARUÍPE                        1891\n",
       "ILHA DE SANTA MARIA            1885\n",
       "FORTE SÃO JOÃO                 1864\n",
       "SÃO CRISTÓVÃO                  1831\n",
       "REDENÇÃO                       1553\n",
       "SÃO BENEDITO                   1433\n",
       "JOANA D´ARC                    1420\n",
       "                               ... \n",
       "SANTOS REIS                     542\n",
       "ESTRELINHA                      538\n",
       "SANTA CLARA                     501\n",
       "SOLON BORGES                    469\n",
       "SANTA CECÍLIA                   448\n",
       "PIEDADE                         446\n",
       "SANTA LÚCIA                     436\n",
       "SANTA LUÍZA                     428\n",
       "BARRO VERMELHO                  422\n",
       "DO MOSCOSO                      411\n",
       "MÁRIO CYPRESTE                  367\n",
       "BOA VISTA                       312\n",
       "COMDUSA                         303\n",
       "DE LOURDES                      302\n",
       "ARIOVALDO FAVALESSA             280\n",
       "ANTÔNIO HONÓRIO                 271\n",
       "FRADINHOS                       258\n",
       "ENSEADA DO SUÁ                  235\n",
       "SANTA HELENA                    178\n",
       "HORTO                           175\n",
       "UNIVERSITÁRIO                   152\n",
       "SEGURANÇA DO LAR                144\n",
       "NAZARETH                        135\n",
       "MORADA DE CAMBURI                96\n",
       "PONTAL DE CAMBURI                69\n",
       "ILHA DO BOI                      35\n",
       "ILHA DO FRADE                    10\n",
       "AEROPORTO                         8\n",
       "ILHAS OCEÂNICAS DE TRINDADE       2\n",
       "PARQUE INDUSTRIAL                 1\n",
       "Name: Neighbourhood, Length: 81, dtype: int64"
      ]
     },
     "execution_count": 96,
     "metadata": {},
     "output_type": "execute_result"
    }
   ],
   "source": [
    "dfc['Neighbourhood'].value_counts()"
   ]
  },
  {
   "cell_type": "code",
   "execution_count": 97,
   "metadata": {},
   "outputs": [],
   "source": [
    "hood_no_shows = dfc.groupby('Neighbourhood').sum()['No-show']\n"
   ]
  },
  {
   "cell_type": "code",
   "execution_count": 98,
   "metadata": {},
   "outputs": [
    {
     "data": {
      "text/html": [
       "<div>\n",
       "<style scoped>\n",
       "    .dataframe tbody tr th:only-of-type {\n",
       "        vertical-align: middle;\n",
       "    }\n",
       "\n",
       "    .dataframe tbody tr th {\n",
       "        vertical-align: top;\n",
       "    }\n",
       "\n",
       "    .dataframe thead th {\n",
       "        text-align: right;\n",
       "    }\n",
       "</style>\n",
       "<table border=\"1\" class=\"dataframe\">\n",
       "  <thead>\n",
       "    <tr style=\"text-align: right;\">\n",
       "      <th></th>\n",
       "      <th>Neighbourhood</th>\n",
       "      <th>No-shows</th>\n",
       "    </tr>\n",
       "  </thead>\n",
       "  <tbody>\n",
       "    <tr>\n",
       "      <th>38</th>\n",
       "      <td>JARDIM CAMBURI</td>\n",
       "      <td>1429.0</td>\n",
       "    </tr>\n",
       "    <tr>\n",
       "      <th>43</th>\n",
       "      <td>MARIA ORTIZ</td>\n",
       "      <td>1219.0</td>\n",
       "    </tr>\n",
       "    <tr>\n",
       "      <th>36</th>\n",
       "      <td>ITARARÉ</td>\n",
       "      <td>902.0</td>\n",
       "    </tr>\n",
       "    <tr>\n",
       "      <th>59</th>\n",
       "      <td>RESISTÊNCIA</td>\n",
       "      <td>885.0</td>\n",
       "    </tr>\n",
       "    <tr>\n",
       "      <th>40</th>\n",
       "      <td>JESUS DE NAZARETH</td>\n",
       "      <td>695.0</td>\n",
       "    </tr>\n",
       "  </tbody>\n",
       "</table>\n",
       "</div>"
      ],
      "text/plain": [
       "        Neighbourhood  No-shows\n",
       "38     JARDIM CAMBURI    1429.0\n",
       "43        MARIA ORTIZ    1219.0\n",
       "36            ITARARÉ     902.0\n",
       "59        RESISTÊNCIA     885.0\n",
       "40  JESUS DE NAZARETH     695.0"
      ]
     },
     "execution_count": 98,
     "metadata": {},
     "output_type": "execute_result"
    }
   ],
   "source": [
    "df_no_shows_per_hood = hood_no_shows.to_frame()\n",
    "df_no_shows_per_hood.reset_index(inplace=True)\n",
    "df_no_shows_per_hood.rename(columns={df_no_shows_per_hood.columns[0]: \"Neighbourhood\", df_no_shows_per_hood.columns[1]: \"No-shows\"}, inplace=True)\n",
    "df_no_shows_per_hood.sort_values(ascending=False, by='No-shows', inplace=True)\n",
    "df_no_shows_per_hood.head()"
   ]
  },
  {
   "cell_type": "code",
   "execution_count": 99,
   "metadata": {},
   "outputs": [
    {
     "data": {
      "text/html": [
       "<div>\n",
       "<style scoped>\n",
       "    .dataframe tbody tr th:only-of-type {\n",
       "        vertical-align: middle;\n",
       "    }\n",
       "\n",
       "    .dataframe tbody tr th {\n",
       "        vertical-align: top;\n",
       "    }\n",
       "\n",
       "    .dataframe thead th {\n",
       "        text-align: right;\n",
       "    }\n",
       "</style>\n",
       "<table border=\"1\" class=\"dataframe\">\n",
       "  <thead>\n",
       "    <tr style=\"text-align: right;\">\n",
       "      <th></th>\n",
       "      <th>Neighbourhood</th>\n",
       "      <th>Amount_Appointments</th>\n",
       "    </tr>\n",
       "  </thead>\n",
       "  <tbody>\n",
       "    <tr>\n",
       "      <th>0</th>\n",
       "      <td>JARDIM CAMBURI</td>\n",
       "      <td>7616</td>\n",
       "    </tr>\n",
       "    <tr>\n",
       "      <th>1</th>\n",
       "      <td>MARIA ORTIZ</td>\n",
       "      <td>5804</td>\n",
       "    </tr>\n",
       "    <tr>\n",
       "      <th>2</th>\n",
       "      <td>RESISTÊNCIA</td>\n",
       "      <td>4387</td>\n",
       "    </tr>\n",
       "    <tr>\n",
       "      <th>3</th>\n",
       "      <td>JARDIM DA PENHA</td>\n",
       "      <td>3873</td>\n",
       "    </tr>\n",
       "    <tr>\n",
       "      <th>4</th>\n",
       "      <td>ITARARÉ</td>\n",
       "      <td>3470</td>\n",
       "    </tr>\n",
       "    <tr>\n",
       "      <th>5</th>\n",
       "      <td>CENTRO</td>\n",
       "      <td>3310</td>\n",
       "    </tr>\n",
       "    <tr>\n",
       "      <th>6</th>\n",
       "      <td>TABUAZEIRO</td>\n",
       "      <td>3123</td>\n",
       "    </tr>\n",
       "    <tr>\n",
       "      <th>7</th>\n",
       "      <td>SANTA MARTHA</td>\n",
       "      <td>3103</td>\n",
       "    </tr>\n",
       "    <tr>\n",
       "      <th>8</th>\n",
       "      <td>JESUS DE NAZARETH</td>\n",
       "      <td>2852</td>\n",
       "    </tr>\n",
       "    <tr>\n",
       "      <th>9</th>\n",
       "      <td>BONFIM</td>\n",
       "      <td>2761</td>\n",
       "    </tr>\n",
       "    <tr>\n",
       "      <th>10</th>\n",
       "      <td>SANTO ANTÔNIO</td>\n",
       "      <td>2733</td>\n",
       "    </tr>\n",
       "    <tr>\n",
       "      <th>11</th>\n",
       "      <td>SANTO ANDRÉ</td>\n",
       "      <td>2556</td>\n",
       "    </tr>\n",
       "    <tr>\n",
       "      <th>12</th>\n",
       "      <td>CARATOÍRA</td>\n",
       "      <td>2541</td>\n",
       "    </tr>\n",
       "    <tr>\n",
       "      <th>13</th>\n",
       "      <td>JABOUR</td>\n",
       "      <td>2507</td>\n",
       "    </tr>\n",
       "    <tr>\n",
       "      <th>14</th>\n",
       "      <td>SÃO PEDRO</td>\n",
       "      <td>2431</td>\n",
       "    </tr>\n",
       "  </tbody>\n",
       "</table>\n",
       "</div>"
      ],
      "text/plain": [
       "        Neighbourhood  Amount_Appointments\n",
       "0      JARDIM CAMBURI                 7616\n",
       "1         MARIA ORTIZ                 5804\n",
       "2         RESISTÊNCIA                 4387\n",
       "3     JARDIM DA PENHA                 3873\n",
       "4             ITARARÉ                 3470\n",
       "5              CENTRO                 3310\n",
       "6          TABUAZEIRO                 3123\n",
       "7        SANTA MARTHA                 3103\n",
       "8   JESUS DE NAZARETH                 2852\n",
       "9              BONFIM                 2761\n",
       "10      SANTO ANTÔNIO                 2733\n",
       "11        SANTO ANDRÉ                 2556\n",
       "12          CARATOÍRA                 2541\n",
       "13             JABOUR                 2507\n",
       "14          SÃO PEDRO                 2431"
      ]
     },
     "execution_count": 99,
     "metadata": {},
     "output_type": "execute_result"
    }
   ],
   "source": [
    "amount_appointments_per_hood = dfc['Neighbourhood'].value_counts()\n",
    "df_amount_appointments_per_hood = amount_appointments_per_hood.to_frame()\n",
    "df_amount_appointments_per_hood.reset_index(inplace=True)\n",
    "df_amount_appointments_per_hood.rename(columns={df_amount_appointments_per_hood.columns[0]: \"Neighbourhood\", df_amount_appointments_per_hood.columns[1]: \"Amount_Appointments\"}, inplace=True)\n",
    "df_amount_appointments_per_hood.head(15)"
   ]
  },
  {
   "cell_type": "code",
   "execution_count": 100,
   "metadata": {},
   "outputs": [],
   "source": [
    "\n",
    "df_amount_appointments_per_hood = df_no_shows_per_hood.merge(df_amount_appointments_per_hood, left_on='Neighbourhood', right_on='Neighbourhood', how='inner')\n",
    "df_amount_appointments_per_hood['Percentage_No_Shows'] = df_amount_appointments_per_hood['No-shows'] / df_amount_appointments_per_hood['Amount_Appointments'] * 100\n",
    "df_amount_appointments_per_hood.sort_values(ascending=False, by='Amount_Appointments', inplace=True)"
   ]
  },
  {
   "cell_type": "code",
   "execution_count": 101,
   "metadata": {},
   "outputs": [
    {
     "name": "stderr",
     "output_type": "stream",
     "text": [
      "/opt/conda/lib/python3.6/site-packages/ipykernel_launcher.py:2: SettingWithCopyWarning: \n",
      "A value is trying to be set on a copy of a slice from a DataFrame\n",
      "\n",
      "See the caveats in the documentation: http://pandas.pydata.org/pandas-docs/stable/indexing.html#indexing-view-versus-copy\n",
      "  \n"
     ]
    }
   ],
   "source": [
    "df_amount_appointments_per_hood_top_15_amount_appoint = df_amount_appointments_per_hood.head(15)\n",
    "df_amount_appointments_per_hood_top_15_amount_appoint.sort_values(ascending=False, by='Percentage_No_Shows', inplace=True)\n",
    "df_amount_appointments_per_hood_top_15_amount_appoint.set_index('Neighbourhood', inplace=True)"
   ]
  },
  {
   "cell_type": "code",
   "execution_count": 102,
   "metadata": {},
   "outputs": [
    {
     "data": {
      "image/png": "[encoded data removed]",
      "text/plain": [
       "<matplotlib.figure.Figure at 0x7f55bdb9dc50>"
      ]
     },
     "metadata": {},
     "output_type": "display_data"
    }
   ],
   "source": [
    "df_amount_appointments_per_hood_top_15_amount_appoint['Percentage_No_Shows'].plot(kind='bar', figsize=(20,10))\n",
    "sns.set_style('whitegrid')\n",
    "plt.title('Proportion Appointments of Patients per Neighborhood on No-shows')\n",
    "plt.ylabel('Percantage No-shows per Neighborhood')\n",
    "plt.xlabel('Neighborhood');"
   ]
  },
  {
   "cell_type": "markdown",
   "metadata": {},
   "source": [
    "### Research Question 2: Did SMS-reminders decrease the proportion of patients not showing up?"
   ]
  },
  {
   "cell_type": "code",
   "execution_count": 103,
   "metadata": {},
   "outputs": [
    {
     "name": "stderr",
     "output_type": "stream",
     "text": [
      "/opt/conda/lib/python3.6/site-packages/pandas/core/frame.py:3781: SettingWithCopyWarning: \n",
      "A value is trying to be set on a copy of a slice from a DataFrame\n",
      "\n",
      "See the caveats in the documentation: http://pandas.pydata.org/pandas-docs/stable/indexing.html#indexing-view-versus-copy\n",
      "  return super(DataFrame, self).rename(**kwargs)\n",
      "/opt/conda/lib/python3.6/site-packages/pandas/core/generic.py:5890: SettingWithCopyWarning: \n",
      "A value is trying to be set on a copy of a slice from a DataFrame\n",
      "\n",
      "See the caveats in the documentation: http://pandas.pydata.org/pandas-docs/stable/indexing.html#indexing-view-versus-copy\n",
      "  self._update_inplace(new_data)\n"
     ]
    }
   ],
   "source": [
    "# Continue to explore the data to address your additional research\n",
    "#   questions. Add more headers as needed if you have more questions to\n",
    "#   investigate.\n",
    "dfc_sms_received = dfc[(dfc['SMS_received'] == True)]\n",
    "dfc_no_sms_received = dfc[(dfc['SMS_received'] == False)]\n",
    "\n",
    "#Grouping by No-show, to calculate the amounts for each case.\n",
    "sms_received = dfc_sms_received.groupby(['No-show']).sum()['SMS_received']\n",
    "\n",
    "# As group function in combination with boolean values only works with \"True\" values, we need to invert \n",
    "# the column SMS_received in this case.\n",
    "dfc_no_sms_received.rename(columns={\"SMS_received\":\"SMS_not_received\"}, inplace=True)\n",
    "dfc_no_sms_received['SMS_not_received'].replace({False: True}, inplace = True)                                                 \n",
    "\n",
    "no_sms_received = dfc_no_sms_received.groupby(['No-show']).sum()['SMS_not_received']\n",
    "\n"
   ]
  },
  {
   "cell_type": "code",
   "execution_count": 104,
   "metadata": {
    "scrolled": true
   },
   "outputs": [
    {
     "name": "stdout",
     "output_type": "stream",
     "text": [
      "No-show\n",
      "False    25698.0\n",
      "True      9784.0\n",
      "Name: SMS_received, dtype: float64\n",
      "\n",
      "\n",
      "No-show\n",
      "False    62095.0\n",
      "True     12314.0\n",
      "Name: SMS_not_received, dtype: float64\n",
      "\n",
      "\n",
      "True\n"
     ]
    }
   ],
   "source": [
    "print(sms_received)\n",
    "print('\\n')\n",
    "print(no_sms_received)\n",
    "print('\\n')\n",
    "print(dfc['AppointmentDay'].count() == sum(sms_received) + sum(no_sms_received))"
   ]
  },
  {
   "cell_type": "code",
   "execution_count": 105,
   "metadata": {},
   "outputs": [
    {
     "data": {
      "image/png": "[encoded data removed]",
      "text/plain": [
       "<matplotlib.figure.Figure at 0x7f55be5ce0f0>"
      ]
     },
     "metadata": {},
     "output_type": "display_data"
    }
   ],
   "source": [
    "sms_received = sms_received / sum(sms_received) * 100\n",
    "no_sms_received = no_sms_received / sum(no_sms_received) * 100\n",
    "\n",
    "# Styling the graphs\n",
    "fig = plt.figure(figsize=(18,15))\n",
    "\n",
    "plt.subplot(2,2,1)\n",
    "sms_received.plot.pie(autopct='%.1f%%')\n",
    "plt.title('Proportion Appointments of Patients WHO RECEIVED a SMS-Reminder on No-show')\n",
    "plt.xlabel('No-show')\n",
    "\n",
    "plt.subplot(2,2,2)\n",
    "no_sms_received.plot.pie(autopct='%.1f%%')\n",
    "plt.title('Proportion Appointments of Patients WHO DID NOT RECEIVE a SMS-Reminder on No-show')\n",
    "plt.xlabel('No-show');"
   ]
  },
  {
   "cell_type": "markdown",
   "metadata": {},
   "source": [
    "<a id='conclusions'></a>\n",
    "## Conclusions\n",
    "\n",
    "My analysis revealed that patients without any of the in the dataset stated diseases have higher no-show rates compared to those having a disease. Thereby it does not make much of a difference, which disease (hypertension, diabetes, alcoholism or handicap) the patient suffers.\n",
    "\n",
    "Furthermore, we saw large differences in no-show proportions between the neighborhoods. We have seen neighborhoods where one out of four to five appointments has a no-show.\n",
    "\n",
    "Lastly, and most surprisingly is the fact that for the appointments within this dataset a SMS-reminding the patients of their upcoming appointment made things worse.\n",
    "\n",
    "## Limitations\n",
    "The scope of this analysis is limited to the setting in which the data has been gathered. Any findings or trends cannot be induced to a larger population or to another setting.\n",
    "\n",
    "The analysis is limited to trends and only shows value distributions. Causations cannot be drawn. For this purpose, statistical tests and more thorough data segmentations would be required.\n",
    "## Submitting your Project \n",
    "\n",
    "> **Tip**: Before you submit your project, you need to create a .html or .pdf version of this notebook in the workspace here. To do that, run the code cell below. If it worked correctly, you should get a return code of 0, and you should see the generated .html file in the workspace directory (click on the orange Jupyter icon in the upper left).\n",
    "\n",
    "> **Tip**: Alternatively, you can download this report as .html via the **File** > **Download as** submenu, and then manually upload it into the workspace directory by clicking on the orange Jupyter icon in the upper left, then using the Upload button.\n",
    "\n",
    "> **Tip**: Once you've done this, you can submit your project by clicking on the \"Submit Project\" button in the lower right here. This will create and submit a zip file with this .ipynb doc and the .html or .pdf version you created. Congratulations!"
   ]
  },
  {
   "cell_type": "code",
   "execution_count": null,
   "metadata": {
    "collapsed": true
   },
   "outputs": [],
   "source": [
    "from subprocess import call\n",
    "call(['python', '-m', 'nbconvert', 'Investigate_a_Dataset.ipynb'])"
   ]
  }
 ],
 "metadata": {
  "kernelspec": {
   "display_name": "Python 3",
   "language": "python",
   "name": "python3"
  },
  "language_info": {
   "codemirror_mode": {
    "name": "ipython",
    "version": 3
   },
   "file_extension": ".py",
   "mimetype": "text/x-python",
   "name": "python",
   "nbconvert_exporter": "python",
   "pygments_lexer": "ipython3",
   "version": "3.6.3"
  }
 },
 "nbformat": 4,
 "nbformat_minor": 2
}
